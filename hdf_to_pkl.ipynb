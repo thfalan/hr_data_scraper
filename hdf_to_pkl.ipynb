{
 "cells": [
  {
   "cell_type": "code",
   "execution_count": 3,
   "metadata": {},
   "outputs": [],
   "source": [
    "import pandas as pd\n",
    "import os"
   ]
  },
  {
   "cell_type": "code",
   "execution_count": 5,
   "metadata": {},
   "outputs": [],
   "source": [
    "def hdf_to_pkl(df_path: str) -> None:\n",
    "    df = pd.read_hdf(df_path)\n",
    "    export_path = df_path.replace(\".h5\", \".pkl\")\n",
    "    df = df.drop_duplicates()\n",
    "    df = df.reset_index(drop = True)\n",
    "    df.to_pickle(export_path)\n",
    "    \n",
    "if __name__ == \"__main__\":\n",
    "    folder = r\"data_20200822\"\n",
    "    fl_list = os.listdir(folder)\n",
    "    fl_list = [x for x in fl_list if x.endswith(\".h5\")]\n",
    "    \n",
    "    for fl in fl_list:\n",
    "        hdf_to_pkl(folder + \"//\" + fl)"
   ]
  },
  {
   "cell_type": "code",
   "execution_count": null,
   "metadata": {},
   "outputs": [],
   "source": []
  },
  {
   "cell_type": "code",
   "execution_count": null,
   "metadata": {},
   "outputs": [],
   "source": []
  }
 ],
 "metadata": {
  "kernelspec": {
   "display_name": "Python 3",
   "language": "python",
   "name": "python3"
  },
  "language_info": {
   "codemirror_mode": {
    "name": "ipython",
    "version": 3
   },
   "file_extension": ".py",
   "mimetype": "text/x-python",
   "name": "python",
   "nbconvert_exporter": "python",
   "pygments_lexer": "ipython3",
   "version": "3.8.2"
  }
 },
 "nbformat": 4,
 "nbformat_minor": 4
}
